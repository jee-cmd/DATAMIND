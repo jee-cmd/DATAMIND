{
  "nbformat": 4,
  "nbformat_minor": 0,
  "metadata": {
    "colab": {
      "provenance": [],
      "include_colab_link": true
    },
    "kernelspec": {
      "name": "python3",
      "display_name": "Python 3"
    },
    "language_info": {
      "name": "python"
    }
  },
  "cells": [
    {
      "cell_type": "markdown",
      "metadata": {
        "id": "view-in-github",
        "colab_type": "text"
      },
      "source": [
        "<a href=\"https://colab.research.google.com/github/jee-cmd/DATAMIND/blob/main/jeetishapython.ipynb\" target=\"_parent\"><img src=\"https://colab.research.google.com/assets/colab-badge.svg\" alt=\"Open In Colab\"/></a>"
      ]
    },
    {
      "cell_type": "code",
      "execution_count": 2,
      "metadata": {
        "id": "otYNELVQ27iW"
      },
      "outputs": [],
      "source": []
    },
    {
      "cell_type": "markdown",
      "source": [
        "**Basics of Python**"
      ],
      "metadata": {
        "id": "PiJ1qJ2x3rA2"
      }
    },
    {
      "cell_type": "markdown",
      "source": [
        "Variables"
      ],
      "metadata": {
        "id": "FjZr8eWo4ntP"
      }
    },
    {
      "cell_type": "code",
      "source": [
        "a = \"Jeetisha sh@rma\"\n",
        "b = 35\n",
        "c = 5.32\n",
        "d = True\n",
        "print(a)\n",
        "print(b)\n",
        "print(c)\n",
        "print(d)\n",
        "\n",
        "print(type(a))\n",
        "print(type(b))\n",
        "print(type(c))\n",
        "print(type(d))"
      ],
      "metadata": {
        "id": "Qc_lQTc_3wwe",
        "colab": {
          "base_uri": "https://localhost:8080/"
        },
        "outputId": "a270da1b-87d9-4cc0-caf4-3e4e7949fbb0"
      },
      "execution_count": 3,
      "outputs": [
        {
          "output_type": "stream",
          "name": "stdout",
          "text": [
            "Jeetisha sh@rma\n",
            "35\n",
            "5.32\n",
            "True\n",
            "<class 'str'>\n",
            "<class 'int'>\n",
            "<class 'float'>\n",
            "<class 'bool'>\n"
          ]
        }
      ]
    },
    {
      "cell_type": "markdown",
      "source": [
        "**Operators**"
      ],
      "metadata": {
        "id": "YvX7Hg1T5B03"
      }
    },
    {
      "cell_type": "code",
      "source": [
        "a = 4.55\n",
        "b = 1.33\n",
        "\n",
        "\n",
        "print(\"The value of 4.55+1.33 is \", 4.55+1.33)\n",
        "print(\"The value of 4.55-1.33 is \", 4.55-1.33)\n",
        "print(\"The value of 4.55*1.33 is \", 4.55*1.33)\n",
        "print(\"The value of 4.55/1.33is \", 4.55/1.33)\n",
        "print(\"The value of 4.55%1.33 is \", 4.55%1.33)\n",
        "\n",
        "\n",
        "a = 34\n",
        "a -= 12\n",
        "a *= 12\n",
        "a /= 12\n",
        "print(a)\n",
        "\n",
        "# b = (14<=7)\n",
        "# b = (14>=7)\n",
        "# b = (14<7)\n",
        "# b = (14>7)\n",
        "b = (14==7)\n",
        "#b = (14!=7)\n",
        "print(b)\n",
        "\n",
        "\n",
        "bool1 = True\n",
        "bool2 = False\n",
        "print(\"The value of bool1 and bool2 is\", (bool1 and bool2))\n",
        "print(\"The value of bool1 or bool2 is\", (bool1 or bool2))\n",
        "print(\"The value of not bool2 is\", (not bool2))"
      ],
      "metadata": {
        "id": "CHmQ8Jck5IHY",
        "colab": {
          "base_uri": "https://localhost:8080/"
        },
        "outputId": "29b017cf-acbd-462d-eabd-cde2366f0944"
      },
      "execution_count": 4,
      "outputs": [
        {
          "output_type": "stream",
          "name": "stdout",
          "text": [
            "The value of 4.55+1.33 is  5.88\n",
            "The value of 4.55-1.33 is  3.2199999999999998\n",
            "The value of 4.55*1.33 is  6.0515\n",
            "The value of 4.55/1.33is  3.421052631578947\n",
            "The value of 4.55%1.33 is  0.5599999999999996\n",
            "22.0\n",
            "False\n",
            "The value of bool1 and bool2 is False\n",
            "The value of bool1 or bool2 is True\n",
            "The value of not bool2 is True\n"
          ]
        }
      ]
    },
    {
      "cell_type": "code",
      "source": [
        "a = input(\"Enter a number: \")\n",
        "a = float(a)\n",
        "print(type(a))"
      ],
      "metadata": {
        "id": "i31_cIyk5aid"
      },
      "execution_count": null,
      "outputs": []
    },
    {
      "cell_type": "code",
      "source": [
        "a = 113\n",
        "b = 15\n",
        "print(\"The sum of a and b is\", a + b)"
      ],
      "metadata": {
        "id": "AlwMEP9sKD5k"
      },
      "execution_count": null,
      "outputs": []
    },
    {
      "cell_type": "code",
      "source": [
        "a = 458.89\n",
        "b = 34.56\n",
        "\n",
        "print(\"The remainder when a is divided by b is\", a%b)"
      ],
      "metadata": {
        "id": "2s5XDWDF5oKK"
      },
      "execution_count": null,
      "outputs": []
    },
    {
      "cell_type": "code",
      "source": [],
      "metadata": {
        "id": "cj_tVlPzKh4F"
      },
      "execution_count": null,
      "outputs": []
    },
    {
      "cell_type": "markdown",
      "source": [
        "Slicing & **Indexing**"
      ],
      "metadata": {
        "id": "ZBsVMQhf8DmF"
      }
    },
    {
      "cell_type": "code",
      "source": [
        "name = \"python\"\n",
        "print(name[4])\n",
        "name = \"pythonIsGood\"\n",
        "d = name[:0:-1]\n",
        "print(d)"
      ],
      "metadata": {
        "id": "mmwtwWlZKp5n"
      },
      "execution_count": null,
      "outputs": []
    },
    {
      "cell_type": "code",
      "source": [
        "story = \"We are learning python basics to become data scientist\"\n",
        "print(story.replace(\"scientist\", \"analyst\"))\n",
        "print(len(story))\n",
        "print(story.endswith(\"python\"))"
      ],
      "metadata": {
        "id": "Ko4121xnKp8D"
      },
      "execution_count": null,
      "outputs": []
    },
    {
      "cell_type": "code",
      "source": [
        "name = input(\"Enter your name\\n\")\n",
        "print(\"my name is \" + name)"
      ],
      "metadata": {
        "id": "bOZTUz9hKqBv"
      },
      "execution_count": null,
      "outputs": []
    },
    {
      "cell_type": "code",
      "source": [
        "letter = '''Dear <|NAME|>,\n",
        "Greetings from ABC coding house. I am happy to tell you about your selection\n",
        "You are selected!\n",
        "Have a great day ahead!\n",
        "Thanks and regards,\n",
        "Bill\n",
        "Date: <|DATE|>\n",
        "'''\n",
        "name = input(\"Enter Your Name\\n\")\n",
        "date = input(\"Enter Date\\n\")\n",
        "letter = letter.replace(\"<|NAME|>\", name)\n",
        "letter = letter.replace(\"<|DATE|>\", date)\n",
        "print(letter)"
      ],
      "metadata": {
        "id": "ufcRp80hLZXE"
      },
      "execution_count": null,
      "outputs": []
    },
    {
      "cell_type": "code",
      "source": [
        "a = [1, 2 , 4, 56, 6]\n",
        "print(a)\n",
        "print(a[:-2])\n",
        "a[-1] = 98\n",
        "print(a)\n",
        "c = [\"nasscom\",\"#\",56]\n",
        "print(c)"
      ],
      "metadata": {
        "id": "GsbcWdUOLZiI"
      },
      "execution_count": null,
      "outputs": []
    },
    {
      "cell_type": "code",
      "source": [
        "friends = [\"Harry\", \"@\", \"Rohan\", \"gauri\", \"Divya\", 45]\n",
        "print(friends[2:4])\n",
        "print(friends[:-3])\n"
      ],
      "metadata": {
        "id": "7Ap2DGlKMAFb"
      },
      "execution_count": null,
      "outputs": []
    },
    {
      "cell_type": "code",
      "source": [
        "l1 = [10, 84, 711, 234, 210, 234]\n",
        "print(l1)\n",
        "l1.remove(210)\n",
        "l1.sort()\n",
        "print(l1)\n",
        "l1.append(1.00)\n",
        "print(l1)"
      ],
      "metadata": {
        "id": "tsnPS5UhMAQ2"
      },
      "execution_count": null,
      "outputs": []
    },
    {
      "cell_type": "code",
      "source": [
        "t = (1, 2, 4, 5)\n",
        "t1 = (3,)\n",
        "print(t1)\n"
      ],
      "metadata": {
        "id": "phq4yUPJMAc1"
      },
      "execution_count": null,
      "outputs": []
    },
    {
      "cell_type": "code",
      "source": [
        "t = (1, 2, 4, 5, 4, 1, 2,1 ,1)\n",
        "\n",
        "print(t.count(2))\n",
        "# print(t.index(3))"
      ],
      "metadata": {
        "id": "3QUA2zUfMdRI"
      },
      "execution_count": null,
      "outputs": []
    },
    {
      "cell_type": "code",
      "source": [
        "\n",
        "f1 = input(\"Enter Fruit Number 1: \")\n",
        "f2 = input(\"Enter Fruit Number 2: \")\n",
        "f3 = input(\"Enter Fruit Number 3: \")\n",
        "f4 = input(\"Enter Fruit Number 4: \")\n",
        "f5 = input(\"Enter Fruit Number 5: \")\n",
        "f6 = input(\"Enter Fruit Number 6: \")\n",
        "f7 = input(\"Enter Fruit Number 7: \")\n",
        "\n",
        "myFruitList = [f1, f2, f3, f4, f5, f6, f7]\n",
        "print(myFruitList)"
      ],
      "metadata": {
        "id": "1RogkoUVMdTs"
      },
      "execution_count": null,
      "outputs": []
    },
    {
      "cell_type": "code",
      "source": [
        "m1 = int(input(\"Enter Marks for Student Number 1: \"))\n",
        "m2 = int(input(\"Enter Marks for Student Number 2: \"))\n",
        "m3 = int(input(\"Enter Marks for Student Number 3: \"))\n",
        "m4 = int(input(\"Enter Marks for Student Number 4: \"))\n",
        "m5 = int(input(\"Enter Marks for Student Number 5: \"))\n",
        "m6 = int(input(\"Enter Marks for Student Number 6: \"))\n",
        "\n",
        "myList = [m1, m2, m3, m4, m5, m6]\n",
        "# myList.append(m7) # Removed the line that caused the error\n",
        "print(myList)"
      ],
      "metadata": {
        "id": "A_hBaIxDMdWh"
      },
      "execution_count": null,
      "outputs": []
    },
    {
      "cell_type": "code",
      "source": [
        "a = (2,4,5,3,2)\n",
        "a = list(a) # Convert the tuple to a list\n",
        "a[0] = 4\n",
        "print(a)"
      ],
      "metadata": {
        "id": "WBFQ1nLAMdZE"
      },
      "execution_count": null,
      "outputs": []
    },
    {
      "cell_type": "code",
      "source": [
        "a = [2, 4, 56, 7]\n",
        "\n",
        "print(a[0] + a[1] + a[2] + a[3])\n",
        "print(sum(a))"
      ],
      "metadata": {
        "id": "dlpzEYJzMdbu"
      },
      "execution_count": null,
      "outputs": []
    },
    {
      "cell_type": "code",
      "source": [
        "myDict = {\n",
        "    \"Fast\": \"In a Quick learner\",\n",
        "    \"Harry\": \"A techinican\",\n",
        "    \"Marks\": [1, 2, 5],\n",
        "    \"anotherdict\": {'paradox': 'Player'}\n",
        "}\n",
        "print(myDict)\n",
        "myDict['Marks'] = [45, 78]\n",
        "print(myDict['Marks'])\n",
        "print(myDict['anotherdict']['paradox'])"
      ],
      "metadata": {
        "id": "TLroxGvMNCMR"
      },
      "execution_count": null,
      "outputs": []
    },
    {
      "cell_type": "code",
      "source": [
        "a = {1, 3, 4, 5, 1}\n",
        "print(type(a))\n",
        "print(a)"
      ],
      "metadata": {
        "id": "S7pJgoHyNCO7"
      },
      "execution_count": null,
      "outputs": []
    },
    {
      "cell_type": "code",
      "source": [
        "b = set()\n",
        "print(type(b))\n",
        "\n",
        "## Adding values to an empty set\n",
        "b.add(4)\n",
        "b.add(4)\n",
        "b.add(5)\n",
        "b.add(5) # Adding a value repeatedly does not changes a set\n",
        "b.add((4, 5, 6))\n",
        "\n",
        "## Accessing Elements\n",
        "# b.add({4:5}) # Cannot add list or dictionary to sets\n",
        "print(b)\n",
        "\n",
        "## Length of the Set\n",
        "print(len(b)) # Prints the length of this set\n",
        "\n",
        "## Removal of an Item\n",
        "b.remove(5) # Removes 5 fromt set b\n",
        "# b.remove(15) # throws an error while trying to remove 15 (which is not present in the set)\n",
        "print(b)\n",
        "\n",
        "print(b.pop())\n",
        "print(b)"
      ],
      "metadata": {
        "id": "IMvtP3NrNCRo"
      },
      "execution_count": null,
      "outputs": []
    },
    {
      "cell_type": "code",
      "source": [
        "myDict = {\n",
        "    \"Pankha\": \"Fan\",\n",
        "    \"Dabba\": \"Box\",\n",
        "    \"Vastu\": \"Item\"\n",
        "}\n",
        "print(\"Options are \", myDict.keys())\n",
        "a = input(\"Enter the Hindi Word\\n\")\n",
        "# print(\"The meaning of your word is:\", myDict[a])\n",
        "\n",
        "# Below line will not throw an error if the key is not present in the dictionary\n",
        "print(\"The meaning of your word is:\", myDict.get(a))"
      ],
      "metadata": {
        "id": "_GBxec0uNCTx"
      },
      "execution_count": null,
      "outputs": []
    },
    {
      "cell_type": "code",
      "source": [
        "a = 8\n",
        "\n",
        "# 1. if-elif-else ladder in Python\n",
        "# if(a<3):\n",
        "#     print(\"The value of a is greater than 3\")\n",
        "# elif(a>13):\n",
        "#     print(\"The value of a is greater than 13\")\n",
        "# elif(a>7):\n",
        "#     print(\"The value of a is greater than 7\")\n",
        "# elif(a>17):\n",
        "#     print(\"The value of a is greater than 17\")\n",
        "# else:\n",
        "#     print(\"The value is not greater than 3 or 7\")\n",
        "\n",
        "# 2. Multiple if statements\n",
        "if(a<3):\n",
        "    print(\"The value of a is greater than 3\")\n",
        "\n",
        "if(a>13):\n",
        "    print(\"The value of a is greater than 13\")\n",
        "\n",
        "if(a>7):\n",
        "    print(\"The value of a is greater than 7\")\n",
        "\n",
        "if(a>17):\n",
        "    print(\"The value of a is greater than 17\")\n",
        "else:\n",
        "    print(\"The value is not greater than 3 or 7\")\n",
        "\n",
        "print(\"Done\")"
      ],
      "metadata": {
        "id": "6E0TpXAUNCXC"
      },
      "execution_count": null,
      "outputs": []
    },
    {
      "cell_type": "code",
      "source": [
        "age = int(input(\"Enter your age: \"))\n",
        "\n",
        "if age>18:\n",
        "    print(\"Yes\")\n",
        "else:\n",
        "    print(\"No\")"
      ],
      "metadata": {
        "id": "barG3iEGN6nX"
      },
      "execution_count": null,
      "outputs": []
    },
    {
      "cell_type": "code",
      "source": [
        "age = int(input(\"Enter your age: \"))\n",
        "if(age>34 or age<56):\n",
        "    print(\"You can work with us\")\n",
        "\n",
        "else:\n",
        "    print(\"You cannot work with us\")"
      ],
      "metadata": {
        "id": "C5BSDhENN_Nb"
      },
      "execution_count": null,
      "outputs": []
    },
    {
      "cell_type": "code",
      "source": [
        "a = [45, 56, 6]\n",
        "print(435 in a)"
      ],
      "metadata": {
        "id": "4PaJNKegN_Zx"
      },
      "execution_count": null,
      "outputs": []
    },
    {
      "cell_type": "code",
      "source": [
        "a = 6\n",
        "if(a==7):\n",
        "    print(\"yes\")\n",
        "elif(a>56):\n",
        "    print(\"no and yes\")\n",
        "else:\n",
        "    print(\"I am optional\")"
      ],
      "metadata": {
        "id": "iU1UCorbOZMf"
      },
      "execution_count": null,
      "outputs": []
    },
    {
      "cell_type": "code",
      "source": [
        "i = 0\n",
        "while i<10:\n",
        "    print(\"Yes \" + str(i))\n",
        "    i = i + 1\n",
        "\n",
        "print(\"Done\")"
      ],
      "metadata": {
        "id": "HUQUFTG5Ogay"
      },
      "execution_count": null,
      "outputs": []
    },
    {
      "cell_type": "code",
      "source": [
        "a = 6\n",
        "if(a>9):\n",
        "    print(\"yes\")\n",
        "elif(a>6):\n",
        "    print(\"no and yes\")\n",
        "else:\n",
        "    print(\"I am optional\")"
      ],
      "metadata": {
        "id": "ZD31K6g3O3ss"
      },
      "execution_count": null,
      "outputs": []
    },
    {
      "cell_type": "code",
      "source": [
        "fuits = ['Banana', 'Watermelon', 'Grapes', 'Mangoes']\n",
        "i = 0\n",
        "while i<len(fruits):\n",
        "    print(fruits[i])\n",
        "    i = i+1\n"
      ],
      "metadata": {
        "id": "3Hhvd0viO3vR"
      },
      "execution_count": null,
      "outputs": []
    },
    {
      "cell_type": "code",
      "source": [
        "fruits = ['Banana', 'Watermelon', 'Grapes', 'Mangoes']\n",
        "\n",
        "for item in fruits:\n",
        "    print(item)\n",
        "\n"
      ],
      "metadata": {
        "id": "086YKEu1O3yu"
      },
      "execution_count": null,
      "outputs": []
    },
    {
      "cell_type": "code",
      "source": [
        "for i in range(4):\n",
        "    print(i)\n",
        "else:\n",
        "    print(\"This is inside else of for\")"
      ],
      "metadata": {
        "id": "SsnIS80uBIEY"
      },
      "execution_count": null,
      "outputs": []
    },
    {
      "cell_type": "code",
      "source": [
        "num = int(input(\"Enter the number\"))\n",
        "for i in range(1, 6):\n",
        "    # print(str(num) + \" X \" + str(i) + \"=\" + str(i*num))\n",
        "    print(f\"{num}X{i}={num*i}\")"
      ],
      "metadata": {
        "id": "TlPn1tn1BrU7"
      },
      "execution_count": null,
      "outputs": []
    },
    {
      "cell_type": "code",
      "source": [
        "num = int(input(\"Enter the number: \"))\n",
        "prime = True\n",
        "\n",
        "for i in range(4, num):\n",
        "    if(num%i == 0):\n",
        "        prime = False\n",
        "        break\n",
        "if prime:\n",
        "    print(\"This number is Prime\")\n",
        "else:\n",
        "    print(\"This number is not Prime\")"
      ],
      "metadata": {
        "id": "fMj4IC6hB2MH"
      },
      "execution_count": null,
      "outputs": []
    }
  ]
}