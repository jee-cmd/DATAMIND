{
  "nbformat": 4,
  "nbformat_minor": 0,
  "metadata": {
    "colab": {
      "provenance": [],
      "toc_visible": true,
      "authorship_tag": "ABX9TyNJdcjCpH7P84qyFVjtqbJK",
      "include_colab_link": true
    },
    "kernelspec": {
      "name": "python3",
      "display_name": "Python 3"
    },
    "language_info": {
      "name": "python"
    }
  },
  "cells": [
    {
      "cell_type": "markdown",
      "metadata": {
        "id": "view-in-github",
        "colab_type": "text"
      },
      "source": [
        "<a href=\"https://colab.research.google.com/github/jee-cmd/DATAMIND/blob/main/ASSIGNMENT_3_2300331530064.ipynb\" target=\"_parent\"><img src=\"https://colab.research.google.com/assets/colab-badge.svg\" alt=\"Open In Colab\"/></a>"
      ]
    },
    {
      "cell_type": "code",
      "execution_count": null,
      "metadata": {
        "id": "tGsRDdECVkMM"
      },
      "outputs": [],
      "source": [
        "1.\tWhat is the difference between a function and a method in Python?\n",
        "sol1:- Function: A function is a block of reusable code that performs a specific task.\n",
        " Functions are defined independently of any class.\n",
        "EXAMPLE:- def my_function():\n",
        "        print(\"This is a function\")\n",
        "\n",
        "    my_function()\n",
        "\n",
        "Method: A method is a function that is associated with an object or a class.\n",
        " Methods are defined within a class and are called on instances of that class.\n",
        " EXAMPLE:-class MyClass:\n",
        "        def my_method(self):\n",
        "            print(\"This is a method\")\n",
        "\n",
        "    my_object = MyClass()\n",
        "    my_object.my_method()"
      ]
    },
    {
      "cell_type": "code",
      "source": [
        "2.\tExplain the concept of function arguments and parameters in Python.\n",
        "sol2:- n Python, parameters and arguments are related concepts used when defining and\n",
        "calling functions:\n",
        "\n",
        "Parameters: These are the names listed in the function definition.\n",
        "  They act as placeholders for the values that will be passed into the function when it is called.\n",
        " EXAMPLE:-  def greet(name, greeting): # name and greeting are parameters\n",
        "            print(f\"{greeting}, {name}!\")\n",
        "\n",
        "Arguments: These are the actual values that are passed to the function when it is called.\n",
        "The arguments are assigned to the corresponding parameters in the function definition.\n",
        "\n",
        "EXAMPLE:-greet(\"Alice\", \"Hello\") # \"Alice\" and \"Hello\" are arguments"
      ],
      "metadata": {
        "id": "vc3ul3AzWCfy"
      },
      "execution_count": null,
      "outputs": []
    },
    {
      "cell_type": "code",
      "source": [
        "3.\tWhat are the different ways to define and call a function in Python?\n",
        "SOL3:- Defining Functions\n",
        "1. Using the def keyword:\n",
        "The most common way to define a function is by using the def keyword,\n",
        "followed by the function's name, parentheses (), and a colon :.\n",
        "1.a Parameters:\n",
        "Input values (arguments) are specified within the parentheses.\n",
        " These are optional and separated by commas if there are multiple.\n",
        "1.b Function Body:\n",
        "The code that the function executes is indented below the def line.\n",
        "1.c Return Statement:\n",
        "Functions can return a value using the return statement.\n",
        " If no return statement is present, the function returns None by default.print(\"This is a function\")\n",
        "    EXAMPLE:- def function_name(parameter1, parameter2):\n",
        "              # Function body\n",
        "              return value\n",
        "\n",
        " 2. Calling Functions\n",
        "Function Name: To call a function, use its name followed by parentheses ().\n",
        "Arguments: If the function expects parameters,\n",
        " pass the corresponding values within the parentheses.\n",
        " EXAMPLE:-    function_name(argument1, argument2)\n"
      ],
      "metadata": {
        "id": "5aA_jyalZpP4"
      },
      "execution_count": null,
      "outputs": []
    },
    {
      "cell_type": "code",
      "source": [
        "#Create a Python function that accepts a string and returns the reverse of that string.\n",
        "  def reverse_string(s):\n",
        "  return s[::-1]"
      ],
      "metadata": {
        "id": "UMr5t3ZXbzF2"
      },
      "execution_count": null,
      "outputs": []
    },
    {
      "cell_type": "code",
      "source": [
        "5.  def printValues():\n",
        "  l = list()\n",
        "  for i in range(1, 21):\n",
        "     l.append(i**2)\n",
        "  print(l)\n",
        "printValues()"
      ],
      "metadata": {
        "colab": {
          "base_uri": "https://localhost:8080/"
        },
        "id": "VtLgp3CccAC-",
        "outputId": "cfdea968-ca88-416d-8aaa-5f76297a66ba"
      },
      "execution_count": null,
      "outputs": [
        {
          "output_type": "stream",
          "name": "stdout",
          "text": [
            "[1, 4, 9, 16, 25, 36, 49, 64, 81, 100, 121, 144, 169, 196, 225, 256, 289, 324, 361, 400]\n"
          ]
        }
      ]
    },
    {
      "cell_type": "code",
      "source": [
        " 6.#Write a Python program using lambda and map.\n",
        " numbers = [1, 2, 3, 4, 5]\n",
        "squared_numbers = list(map(lambda x: x**2, numbers))\n",
        "print(squared_numbers)"
      ],
      "metadata": {
        "colab": {
          "base_uri": "https://localhost:8080/"
        },
        "id": "tH-cucXydAMN",
        "outputId": "6814ccdf-7215-4c02-bacd-986faa9ca263"
      },
      "execution_count": null,
      "outputs": [
        {
          "output_type": "stream",
          "name": "stdout",
          "text": [
            "[1, 4, 9, 16, 25]\n"
          ]
        }
      ]
    },
    {
      "cell_type": "code",
      "source": [
        "7.#Write a Python program, which returns a list with 2-tuples. Each tuple consists of the order number and the product of the price per item and the quantity. The product should be increased by 10, - € if the value of the order is smaller than 100,00 €.\n",
        "def calculate_order_values(orders):\n",
        "    results = []\n",
        "    for order_number, price, quantity in orders:\n",
        "        product = price * quantity\n",
        "        if product < 100:\n",
        "            product += 10\n",
        "        results.append((order_number, product))\n",
        "    return results\n",
        "\n",
        "orders = [(1, 20, 3), (2, 50, 2), (3, 10, 15)]\n",
        "print(calculate_order_values(orders))"
      ],
      "metadata": {
        "colab": {
          "base_uri": "https://localhost:8080/"
        },
        "id": "YUGEw0G-dzes",
        "outputId": "af2e2f5c-47c7-4b4d-a4fb-25531c4ce78b"
      },
      "execution_count": null,
      "outputs": [
        {
          "output_type": "stream",
          "name": "stdout",
          "text": [
            "[(1, 70), (2, 100), (3, 150)]\n"
          ]
        }
      ]
    },
    {
      "cell_type": "code",
      "source": [
        "8.#Use a lambda function in Python to sort a list of tuples based on the second element of each tuple.\n",
        "list_of_tuples = [(1, 'apple'), (3, 'banana'), (2, 'cherry'), (4, 'date')]\n",
        "\n",
        "sorted_list = sorted(list_of_tuples, key=lambda item: item[1])\n",
        "\n",
        "print(sorted_list)"
      ],
      "metadata": {
        "colab": {
          "base_uri": "https://localhost:8080/"
        },
        "id": "g3f7cQT7eELE",
        "outputId": "1cc037a9-0a31-4532-9e94-f4ced9f4f3b9"
      },
      "execution_count": null,
      "outputs": [
        {
          "output_type": "stream",
          "name": "stdout",
          "text": [
            "[(1, 'apple'), (3, 'banana'), (2, 'cherry'), (4, 'date')]\n"
          ]
        }
      ]
    },
    {
      "cell_type": "code",
      "source": [
        "9.#Write a program to create three dictionaries and concatenate them to create a fourth dictionary.\n",
        "dict1 = {'a': 1, 'b': 2}\n",
        "dict2 = {'c': 3, 'd': 4}\n",
        "dict3 = {'e': 5, 'f': 6}\n",
        "dict4 = {}\n",
        "for d in (dict1, dict2, dict3):\n",
        "    dict4.update(d)\n",
        "print(dict4)"
      ],
      "metadata": {
        "colab": {
          "base_uri": "https://localhost:8080/"
        },
        "id": "11sGsKNFe6nT",
        "outputId": "bd1ab2e0-d0ba-441d-bea7-0c501f4b77ee"
      },
      "execution_count": null,
      "outputs": [
        {
          "output_type": "stream",
          "name": "stdout",
          "text": [
            "{'a': 1, 'b': 2, 'c': 3, 'd': 4, 'e': 5, 'f': 6}\n"
          ]
        }
      ]
    },
    {
      "cell_type": "code",
      "source": [
        "10.\t#Write a program to sort a dictionary in ascending and descending order by key and value.\n",
        "my_dict = {'b': 2, 'a': 1, 'd': 4, 'c': 3}\n",
        "asc = sorted(my_dict.items())\n",
        "print(\"Sorted by key (ascending):\", asc)\n",
        "desc = sorted(my_dict.items(), reverse=True)\n",
        "print(\"Sorted by key (descending):\", desc)\n"
      ],
      "metadata": {
        "colab": {
          "base_uri": "https://localhost:8080/"
        },
        "id": "HsBOZXigfjZ7",
        "outputId": "9d6b2187-556f-49a7-ce37-2e34b4660b0e"
      },
      "execution_count": null,
      "outputs": [
        {
          "output_type": "stream",
          "name": "stdout",
          "text": [
            "Sorted by key (ascending): [('a', 1), ('b', 2), ('c', 3), ('d', 4)]\n",
            "Sorted by key (descending): [('d', 4), ('c', 3), ('b', 2), ('a', 1)]\n"
          ]
        }
      ]
    },
    {
      "cell_type": "code",
      "source": [
        "11.\tExplain the difference between 'append' and 'extend' in Python?\n",
        " 1.append()\n",
        " Purpose: Adds a single element to the end of a list.\n",
        " Behavior: The element being added, regardless of its type ,\n",
        "  is treated as a single item and added as one element to the end of the existing list.\n",
        " Syntax: list.append(element)\n",
        " EXAMPLE:- list1 = [1, 2, 3]\n",
        "list1.append(4)\n",
        "print(list1)\n",
        "\n",
        "list1 = [1, 2, 3]\n",
        "list1.append([5, 6]) # Appending a list as a single element\n",
        "print(list1)\n",
        "\n",
        " 2.extend()\n",
        "Purpose: Adds all the elements of an iterable (like another list, tuple, or string) to the end of the current list.\n",
        "Behavior: The iterable is unpacked, and each individual element from the iterable is added as a separate element to the end of the existing list.\n",
        "Syntax: list.extend(iterable)\n",
        "EXAMPLE:-   list2 = [1, 2, 3]\n",
        "list2.extend([4, 5]) # Extending with a list\n",
        "print(list2)\n",
        "\n",
        "list2 = [1, 2, 3]\n",
        "list2.extend('abc') # Extending with a string (iterates over characters)\n",
        "print(list2)"
      ],
      "metadata": {
        "id": "gxO26JpIf0W5"
      },
      "execution_count": null,
      "outputs": []
    },
    {
      "cell_type": "code",
      "source": [
        "Write a python program to count the vowels present in a given input string.\n"
      ],
      "metadata": {
        "id": "D3Y9wx5bgnpS"
      },
      "execution_count": null,
      "outputs": []
    },
    {
      "cell_type": "code",
      "source": [],
      "metadata": {
        "id": "RSY6URuuhInn"
      },
      "execution_count": null,
      "outputs": []
    }
  ]
}